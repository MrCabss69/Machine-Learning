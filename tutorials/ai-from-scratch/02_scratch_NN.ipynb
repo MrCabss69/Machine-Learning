{
 "cells": [
  {
   "cell_type": "code",
   "execution_count": null,
   "metadata": {},
   "outputs": [],
   "source": [
    "import numpy as np\n",
    "\n",
    "def ReLU(inputs):\n",
    "    return [inp if inp > 0 else 0 for inp in inputs ]\n",
    "\n",
    "class Neuron:\n",
    "    def __init__(self,inputs):\n",
    "        self.weights = np.array([])\n",
    "        self.biases  = np.array([])\n",
    "        \n",
    "        pass\n",
    "    \n",
    "    def process(self):\n",
    "        pass\n",
    "    \n",
    "class Net:\n",
    "    def __init__(self):\n",
    "        self.hidden_layers = 2\n",
    "        self.neurons = 4\n",
    "    \n",
    "    def fordward(self):\n",
    "        pass\n",
    "    \n",
    "    def backward(self):\n",
    "        pass            "
   ]
  }
 ],
 "metadata": {
  "language_info": {
   "name": "python"
  }
 },
 "nbformat": 4,
 "nbformat_minor": 2
}
