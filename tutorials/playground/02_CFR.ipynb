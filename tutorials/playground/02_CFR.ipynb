{
 "cells": [
  {
   "cell_type": "markdown",
   "metadata": {},
   "source": [
    "## CFR"
   ]
  },
  {
   "cell_type": "code",
   "execution_count": 1,
   "metadata": {},
   "outputs": [],
   "source": [
    "import numpy as np"
   ]
  },
  {
   "cell_type": "code",
   "execution_count": 2,
   "metadata": {},
   "outputs": [],
   "source": [
    "class Node:\n",
    "    TERMINALES = ['pp', 'bp', 'bb', 'pbb', 'pbp']\n",
    "    \n",
    "    def __init__(self, history, cards) -> None:\n",
    "        self.history = history\n",
    "        self.player = len(history) % 2\n",
    "        self.cards = cards\n",
    "        self.actions = ['p', 'b']\n",
    "        self.is_terminal = history in self.TERMINALES\n",
    "        self.payments = 0 if not self.is_terminal else self._payments()\n",
    "        self.strategy = np.repeat(1/len(self.actions), len(self.actions))\n",
    "        self.regrets = np.zeros(2)  # Dos acciones posibles: pasar y apostar\n",
    "        self.strategy_sum = np.zeros(2)\n",
    "        \n",
    "    def _payments(self) -> float:\n",
    "        # Ajuste de la lógica de pagos según las reglas del juego\n",
    "        payment = 4 if self.history.count('b') == 2 else 2\n",
    "        # Lógica para determinar el ganador\n",
    "        if self.history in ['pp', 'bb', 'pbb']:\n",
    "            return payment if self.cards[self.player] > self.cards[(self.player+1)%2] else -payment\n",
    "        return payment\n",
    "    \n",
    "    def get_current_strategy(self):\n",
    "        regrets_positivos = [r if r >= 0 else 0 for r in self.regrets ]  # Solo consideramos regrets positivos\n",
    "        total_positivo = np.sum(regrets_positivos)\n",
    "        if total_positivo > 0:\n",
    "            strategy = regrets_positivos / total_positivo\n",
    "        else:\n",
    "            strategy = np.ones(len(self.actions)) / len(self.actions)\n",
    "        return strategy"
   ]
  },
  {
   "cell_type": "code",
   "execution_count": 3,
   "metadata": {},
   "outputs": [],
   "source": [
    "infoset_nodes = {}\n",
    "\n",
    "\n",
    "def get_node(history, cards):\n",
    "    global infoset_nodes\n",
    "    key = f\"{cards[len(history) % 2]} {history}\"\n",
    "    if key not in infoset_nodes:\n",
    "        infoset_nodes[key] = Node(history, cards)\n",
    "    return infoset_nodes[key]\n",
    "\n",
    "def cfr(history, update_p, cards, p1, p2):\n",
    "    node = get_node(history, cards)\n",
    "    if node.is_terminal:\n",
    "        return node.payments\n",
    "    strategy = node.get_current_strategy()\n",
    "    actions_utils = np.zeros(len(node.actions))\n",
    "    node_util = 0\n",
    "    \n",
    "    for i, action in enumerate(node.actions):\n",
    "        new_history = history + action\n",
    "        if node.player == 0:\n",
    "            actions_utils[i] = -cfr(new_history, update_p, cards, p1 * strategy[i], p2)\n",
    "        else:\n",
    "            actions_utils[i] = -cfr(new_history, update_p,  cards, p1, p2 * strategy[i])\n",
    "        node_util += strategy[i] * actions_utils[i]\n",
    "    \n",
    "    if update_p == node.player:\n",
    "        for i, action in enumerate(node.actions):\n",
    "            regret = actions_utils[i] - node_util\n",
    "            node.regrets[i] += (p2 if node.player == 0 else p1) * regret\n",
    "            node.strategy_sum[i] += (p1 if node.player == 0 else p2)*strategy[i]\n",
    "    return node_util"
   ]
  },
  {
   "cell_type": "code",
   "execution_count": 4,
   "metadata": {},
   "outputs": [
    {
     "name": "stdout",
     "output_type": "stream",
     "text": [
      "J : Estrategia acumulada: [8.33333333e-02 3.33325000e+03], Estrategia actual: [0. 1.]\n",
      "\n",
      "Q p: Estrategia acumulada: [1666.66666667 1666.66666667], Estrategia actual: [0.5 0.5]\n",
      "\n",
      "J pb: Estrategia acumulada: [0.04166667 0.04166667], Estrategia actual: [1. 0.]\n",
      "\n",
      "Q b: Estrategia acumulada: [8.33333333e-02 3.33325000e+03], Estrategia actual: [0. 1.]\n",
      "\n",
      "K p: Estrategia acumulada: [1666.66666667 1666.66666667], Estrategia actual: [0.5 0.5]\n",
      "\n",
      "K b: Estrategia acumulada: [8.33333333e-02 3.33325000e+03], Estrategia actual: [0. 1.]\n",
      "\n",
      "Q : Estrategia acumulada: [8.33333333e-02 3.33325000e+03], Estrategia actual: [0. 1.]\n",
      "\n",
      "J p: Estrategia acumulada: [1666.66666667 1666.66666667], Estrategia actual: [0.5 0.5]\n",
      "\n",
      "Q pb: Estrategia acumulada: [0.04166667 0.04166667], Estrategia actual: [0. 1.]\n",
      "\n",
      "J b: Estrategia acumulada: [3.33325000e+03 8.33333333e-02], Estrategia actual: [1. 0.]\n",
      "\n",
      "K : Estrategia acumulada: [8.33333333e-02 3.33325000e+03], Estrategia actual: [0. 1.]\n",
      "\n",
      "K pb: Estrategia acumulada: [0.04166667 0.04166667], Estrategia actual: [0. 1.]\n",
      "\n"
     ]
    }
   ],
   "source": [
    "utilidades = []\n",
    "HANDS = ['JQ', 'JK', 'QJ', 'KJ', 'QK', 'KQ']\n",
    "iteraciones = 10_000\n",
    "\n",
    "for p in [0,1]:\n",
    "    for _ in range(iteraciones):\n",
    "        for cards in HANDS:\n",
    "            utilidades.append(cfr('',p, cards, 1/6, 1/6))\n",
    "\n",
    "# Imprimir resultados y estrategias de los nodos no terminales\n",
    "for key, node in infoset_nodes.items():\n",
    "    if not node.is_terminal:\n",
    "        print(f\"{key}: Estrategia acumulada: {node.strategy_sum}, Estrategia actual: {node.get_current_strategy()}\\n\")"
   ]
  }
 ],
 "metadata": {
  "kernelspec": {
   "display_name": "Python 3",
   "language": "python",
   "name": "python3"
  },
  "language_info": {
   "codemirror_mode": {
    "name": "ipython",
    "version": 3
   },
   "file_extension": ".py",
   "mimetype": "text/x-python",
   "name": "python",
   "nbconvert_exporter": "python",
   "pygments_lexer": "ipython3",
   "version": "3.11.8"
  }
 },
 "nbformat": 4,
 "nbformat_minor": 2
}
