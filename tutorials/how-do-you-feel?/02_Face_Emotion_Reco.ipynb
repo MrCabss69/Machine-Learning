{
 "cells": [
  {
   "cell_type": "markdown",
   "metadata": {},
   "source": [
    "# ¿Cómo te sientes? - Parte II\n",
    "Resources: https://www.kaggle.com/datasets/jonathanoheix/face-expression-recognition-dataset\n",
    "\n",
    "En la primera parte vimos que es una convolución y entendimos visualmente como se representan las características extraídas con cada tipo de filtro. Ahora nos toca usar esas características para algo útil. Por ejemplo: detectar que emoción muestra una persona en una fotografía de su rostro."
   ]
  },
  {
   "cell_type": "markdown",
   "metadata": {},
   "source": [
    "## Recoleccion de datos\n",
    "Debemos crear un dataset balanceado y apto para el entremiento con una red neuronal convolucional. El conjunto de datos que utilizaremos proviene de Kaggle y contiene imágenes de rostros etiquetadas con diversas emociones. Es crucial comprobar que haya un conjunto equilibrado de instancias de cada clase a predecir en el dataset, para evitar sesgos que puedan afectar negativamente a la generalización de nuestro modelo. Por lo tanto, el primer paso será cargar y equilibrar los datos para asegurar que cada emoción esté igualmente representada."
   ]
  },
  {
   "cell_type": "code",
   "execution_count": 1,
   "metadata": {},
   "outputs": [
    {
     "name": "stderr",
     "output_type": "stream",
     "text": [
      "2024-03-24 03:36:56.389547: I tensorflow/tsl/cuda/cudart_stub.cc:28] Could not find cuda drivers on your machine, GPU will not be used.\n",
      "2024-03-24 03:36:56.429607: I tensorflow/tsl/cuda/cudart_stub.cc:28] Could not find cuda drivers on your machine, GPU will not be used.\n",
      "2024-03-24 03:36:56.430482: I tensorflow/core/platform/cpu_feature_guard.cc:182] This TensorFlow binary is optimized to use available CPU instructions in performance-critical operations.\n",
      "To enable the following instructions: AVX2 FMA, in other operations, rebuild TensorFlow with the appropriate compiler flags.\n",
      "2024-03-24 03:36:57.150060: W tensorflow/compiler/tf2tensorrt/utils/py_utils.cc:38] TF-TRT Warning: Could not find TensorRT\n"
     ]
    }
   ],
   "source": [
    "from sklearn.model_selection import train_test_split\n",
    "import pandas as pd \n",
    "import json\n",
    "import os\n",
    "import tensorflow as tf\n",
    "\n",
    "# Deshabilitar GPUs para TensorFlow\n",
    "os.environ[\"CUDA_VISIBLE_DEVICES\"] = \"-1\""
   ]
  },
  {
   "cell_type": "code",
   "execution_count": 2,
   "metadata": {},
   "outputs": [],
   "source": [
    "def generate_dataset():\n",
    "    \"\"\"\n",
    "    Genera DataFrames para los conjuntos de entrenamiento, validación y prueba.\n",
    "\n",
    "    Returns:\n",
    "    - Tuple de DataFrames: Contiene los DataFrames para los conjuntos de entrenamiento, validación y prueba.\n",
    "    \"\"\"\n",
    "    base_dir = '/home/jd/Documentos/CODIGO/Machine-Learning/tutorials/how-do-you-feel?/resources/images/train'\n",
    "    emotions = ['angry', 'fear', 'happy', 'neutral', 'sad', 'surprise']\n",
    "    data = []\n",
    "    for emotion in emotions:\n",
    "        emotion_dir = os.path.join(base_dir, emotion)\n",
    "        for image in os.listdir(emotion_dir):\n",
    "            if image.endswith('.jpg'):\n",
    "                data.append((emotion, os.path.join(emotion_dir, image)))\n",
    "\n",
    "    train, test_val = train_test_split(data, test_size=0.3, random_state=42)\n",
    "    test, val = train_test_split(test_val, test_size=0.3, random_state=42)\n",
    "\n",
    "    return (pd.DataFrame(data, columns=['Emotion', 'Path']) for data in [train, test, val])"
   ]
  },
  {
   "cell_type": "code",
   "execution_count": 3,
   "metadata": {},
   "outputs": [],
   "source": [
    "def balance_df(df):\n",
    "    \"\"\"\n",
    "    Balancea el DataFrame para tener la misma cantidad de muestras para cada emoción.\n",
    "\n",
    "    Args:\n",
    "    - df (DataFrame): DataFrame que contiene las emociones y las rutas de las imágenes.\n",
    "\n",
    "    Returns:\n",
    "    - DataFrame: DataFrame balanceado.\n",
    "    \"\"\"\n",
    "    min_samples = df['Emotion'].value_counts().min()\n",
    "    dfs = [df[df['Emotion'] == emotion].sample(n=min_samples, random_state=42) for emotion in df['Emotion'].unique()]\n",
    "    return pd.concat(dfs, ignore_index=True)"
   ]
  },
  {
   "cell_type": "code",
   "execution_count": 4,
   "metadata": {},
   "outputs": [],
   "source": [
    "train_df, test_df, val_df = generate_dataset()"
   ]
  },
  {
   "cell_type": "code",
   "execution_count": 5,
   "metadata": {},
   "outputs": [
    {
     "data": {
      "text/plain": [
       "Emotion\n",
       "happy       4978\n",
       "neutral     3517\n",
       "sad         3400\n",
       "fear        2892\n",
       "angry       2783\n",
       "surprise    2299\n",
       "Name: count, dtype: int64"
      ]
     },
     "execution_count": 5,
     "metadata": {},
     "output_type": "execute_result"
    }
   ],
   "source": [
    "train_df['Emotion'].value_counts()"
   ]
  },
  {
   "cell_type": "markdown",
   "metadata": {},
   "source": [
    "Después de dividir nuestro conjunto de datos en entrenamiento, validación y prueba, observamos un desequilibrio significativo entre las clases: tenemos 2299 instancias de 'suprise' y 4978 de 'happy'. Tal desequilibrio puede conducir a un modelo sesgado, por lo que el siguiente paso es balancear estos conjuntos. "
   ]
  },
  {
   "cell_type": "markdown",
   "metadata": {},
   "source": [
    "### Balanceo de datos"
   ]
  },
  {
   "cell_type": "code",
   "execution_count": 6,
   "metadata": {},
   "outputs": [
    {
     "data": {
      "text/plain": [
       "Emotion\n",
       "sad         2299\n",
       "happy       2299\n",
       "neutral     2299\n",
       "surprise    2299\n",
       "fear        2299\n",
       "angry       2299\n",
       "Name: count, dtype: int64"
      ]
     },
     "execution_count": 6,
     "metadata": {},
     "output_type": "execute_result"
    }
   ],
   "source": [
    "train_df = balance_df(train_df)\n",
    "test_df  = balance_df(test_df)\n",
    "val_df   = balance_df(val_df)\n",
    "train_df['Emotion'].value_counts()"
   ]
  },
  {
   "cell_type": "markdown",
   "metadata": {},
   "source": [
    "## Data Preprocessing and Data Augmentation"
   ]
  },
  {
   "cell_type": "markdown",
   "metadata": {},
   "source": [
    "Hemos preparado y balanceado los conjuntos de datos, el siguiente paso es implementar el preprocesamiento de las imágenes antes de alimentarlas a la CNN. Para ello, vamos a utilizar el módulo ImageDataGenerator de Keras. Este módulo permite generar y preprocesar imágenes de forma sencilla, dejándolas listas para el entrenamiento de nuestro modelo. Además, aplicaremos una técnica conocida como DataAugmentation.\n",
    "\n",
    "El aumento de datos es una técnica usada para aumentar la diversidad de nuestro conjunto de datos sin necesidad de recopilar más datos. Consiste en introducir ruido a nuestro dataset. En el caso de imagenes este ruido son: rotaciones, desplazamientos, volteos, desenfoques, etc. Introduciendo este ruido conseguimos que  el modelo se vuelva más robusto y menos propenso al sobreajuste: que generalice mejor. "
   ]
  },
  {
   "cell_type": "code",
   "execution_count": 7,
   "metadata": {},
   "outputs": [],
   "source": [
    "from tensorflow.keras.preprocessing.image import ImageDataGenerator\n",
    "from tensorflow.image import rgb_to_grayscale\n",
    "\n",
    "datagen_config = dict(\n",
    "    rescale=1./255,                                       # Normalización de las imágenes (dividir por 255)\n",
    "    rotation_range=20,                                    # Rotaciones aleatorias de hasta 20 grados\n",
    "    width_shift_range=0.2,                                # Desplazamientos horizontales\n",
    "    height_shift_range=0.2,                               # Desplazamientos verticales\n",
    "    shear_range=0.2,                                      # Cortes\n",
    "    zoom_range=0.2,                                       # Zoom aleatorio\n",
    "    horizontal_flip=True,                                 # Volteo horizontal para aumentar la variedad\n",
    "    fill_mode='nearest',                                  # Rellenar los píxeles faltantes con el valor más cercano\n",
    ")"
   ]
  },
  {
   "cell_type": "markdown",
   "metadata": {},
   "source": [
    "Util, ¿verdad? Pues podemos guardar los parámetros del generador ImageDataGenerator en el disco para usarlo posteriormente"
   ]
  },
  {
   "cell_type": "code",
   "execution_count": 8,
   "metadata": {},
   "outputs": [],
   "source": [
    "# config_path = 'data_gen_params.json'\n",
    "# with open(config_path, 'w') as file:\n",
    "#     json.dump(datagen_config, file)\n",
    "\n",
    "# with open(config_path, 'r') as file:\n",
    "#     loaded_config = json.load(file)"
   ]
  },
  {
   "cell_type": "markdown",
   "metadata": {},
   "source": [
    "Para pasar nuestras imágenes por una red neuronal, es conveniente convertirlas a una escala de grises. Así nuestra red convolucional podrá detectar características de forma eficiente. Estamos aplicando filtros en forma de matrices para detectar patrones en la intensidad de los píxeles y así dibujar contornos, el color no es necesario.\n",
    "\n",
    "Convertir las imágenes a escala de grises reduce la complejidad computacional y permite que el modelo se enfoque en las características estructurales de las imágenes. Al aplicar CNN la idea subyacente es encontrar aplicar filtros de patrones visuales sobre imágenes para detectar bordes y contornos de los elementos presentes."
   ]
  },
  {
   "cell_type": "code",
   "execution_count": 9,
   "metadata": {},
   "outputs": [],
   "source": [
    "datagen_config = dict(\n",
    "    rescale=1./255,                                       # Normalización de las imágenes (dividir por 255)\n",
    "    rotation_range=20,                                    # Rotaciones aleatorias de hasta 20 grados\n",
    "    width_shift_range=0.2,                                # Desplazamientos horizontales\n",
    "    height_shift_range=0.2,                               # Desplazamientos verticales\n",
    "    shear_range=0.2,                                      # Cortes\n",
    "    zoom_range=0.2,                                       # Zoom aleatorio\n",
    "    horizontal_flip=True,                                 # Volteo horizontal para aumentar la variedad\n",
    "    fill_mode='nearest',   \n",
    "    preprocessing_function=lambda x: rgb_to_grayscale(x) # Rellenar los píxeles faltantes con el valor más cercano\n",
    ")\n",
    "\n",
    "# Crear un nuevo ImageDataGenerator con los parámetros cargados\n",
    "seed = 1\n",
    "data_gen = ImageDataGenerator(**datagen_config)\n",
    "data_gen.fit(train_df, augment=True, seed=seed)\n",
    "\n",
    "test_gen = ImageDataGenerator(rescale=1./255)\n",
    "test_gen.fit(test_df, augment=True, seed=seed)\n",
    "\n",
    "val_gen = ImageDataGenerator(rescale=1./255)\n",
    "val_gen.fit(val_df, augment=True, seed=seed)"
   ]
  },
  {
   "cell_type": "code",
   "execution_count": 10,
   "metadata": {},
   "outputs": [
    {
     "name": "stdout",
     "output_type": "stream",
     "text": [
      "Found 13794 validated image filenames belonging to 6 classes.\n",
      "Found 3834 validated image filenames belonging to 6 classes.\n",
      "Found 1602 validated image filenames belonging to 6 classes.\n"
     ]
    }
   ],
   "source": [
    "# Generadores para los conjuntos de datos\n",
    "train_generator = data_gen.flow_from_dataframe(train_df, x_col='Path', y_col='Emotion', target_size=(48, 48), color_mode='rgb', class_mode='categorical', batch_size=32, shuffle=True)\n",
    "test_generator = ImageDataGenerator(rescale=1./255).flow_from_dataframe(test_df, x_col='Path', y_col='Emotion', target_size=(48, 48), color_mode='rgb', class_mode='categorical', batch_size=32, shuffle=False)\n",
    "val_generator = ImageDataGenerator(rescale=1./255).flow_from_dataframe(val_df, x_col='Path', y_col='Emotion', target_size=(48, 48), color_mode='rgb', class_mode='categorical', batch_size=32, shuffle=False)"
   ]
  },
  {
   "cell_type": "code",
   "execution_count": 11,
   "metadata": {},
   "outputs": [],
   "source": [
    "images, labels = next(train_generator)"
   ]
  },
  {
   "cell_type": "code",
   "execution_count": 12,
   "metadata": {},
   "outputs": [
    {
     "data": {
      "text/plain": [
       "(48, 48, 3)"
      ]
     },
     "execution_count": 12,
     "metadata": {},
     "output_type": "execute_result"
    }
   ],
   "source": [
    "images[0].shape"
   ]
  },
  {
   "cell_type": "code",
   "execution_count": 13,
   "metadata": {},
   "outputs": [
    {
     "data": {
      "text/plain": [
       "<keras.preprocessing.image.ImageDataGenerator at 0x7fb45cfa9010>"
      ]
     },
     "execution_count": 13,
     "metadata": {},
     "output_type": "execute_result"
    }
   ],
   "source": [
    "data_gen"
   ]
  },
  {
   "cell_type": "markdown",
   "metadata": {},
   "source": [
    "## Arquitectura y entrenamiento del modelo\n",
    "\n",
    "La arquitectura de nuestra CNN incluye varias capas convolucionales y de pooling, seguidas de capas densas para la clasificación. Cada capa convolucional aprenderá diferentes características de las imágenes, desde bordes simples en las primeras capas hasta patrones más complejos y específicos en las capas más profundas. El proceso de entrenamiento ajustará estos filtros para minimizar la pérdida, utilizando los datos de entrenamiento y validando el rendimiento con el conjunto de validación. Observaremos cómo evoluciona la precisión y la pérdida a lo largo de las épocas para comprender mejor el proceso de aprendizaje de nuestro modelo."
   ]
  },
  {
   "cell_type": "code",
   "execution_count": 14,
   "metadata": {},
   "outputs": [
    {
     "name": "stdout",
     "output_type": "stream",
     "text": [
      "Model: \"sequential\"\n",
      "_________________________________________________________________\n",
      " Layer (type)                Output Shape              Param #   \n",
      "=================================================================\n",
      " conv2d (Conv2D)             (None, 48, 48, 32)        896       \n",
      "                                                                 \n",
      " max_pooling2d (MaxPooling2D  (None, 24, 24, 32)       0         \n",
      " )                                                               \n",
      "                                                                 \n",
      " conv2d_1 (Conv2D)           (None, 22, 22, 64)        18496     \n",
      "                                                                 \n",
      " max_pooling2d_1 (MaxPooling  (None, 11, 11, 64)       0         \n",
      " 2D)                                                             \n",
      "                                                                 \n",
      " conv2d_2 (Conv2D)           (None, 9, 9, 128)         73856     \n",
      "                                                                 \n",
      " max_pooling2d_2 (MaxPooling  (None, 4, 4, 128)        0         \n",
      " 2D)                                                             \n",
      "                                                                 \n",
      " flatten (Flatten)           (None, 2048)              0         \n",
      "                                                                 \n",
      " dense (Dense)               (None, 64)                131136    \n",
      "                                                                 \n",
      " dropout (Dropout)           (None, 64)                0         \n",
      "                                                                 \n",
      " dense_1 (Dense)             (None, 6)                 390       \n",
      "                                                                 \n",
      "=================================================================\n",
      "Total params: 224,774\n",
      "Trainable params: 224,774\n",
      "Non-trainable params: 0\n",
      "_________________________________________________________________\n"
     ]
    }
   ],
   "source": [
    "from tensorflow.keras.models import Sequential\n",
    "from tensorflow.keras.layers import Conv2D, MaxPooling2D, Flatten, Dense, Dropout\n",
    "\n",
    "# Definición del modelo\n",
    "model = Sequential()\n",
    "\n",
    "# Primera capa convolucional\n",
    "model.add(Conv2D(32, (3, 3), padding=\"same\", activation='relu', input_shape=(48, 48, 3)))\n",
    "model.add(MaxPooling2D((2, 2)))\n",
    "\n",
    "# Segunda capa convolucional\n",
    "model.add(Conv2D(64, (3, 3), activation='relu'))\n",
    "model.add(MaxPooling2D((2, 2)))\n",
    "\n",
    "# Tercera capa convolucional\n",
    "model.add(Conv2D(128, (3, 3), activation='relu'))\n",
    "model.add(MaxPooling2D((2, 2)))\n",
    "\n",
    "# Aplanamiento y capa densa\n",
    "model.add(Flatten())\n",
    "model.add(Dense(64, activation='relu'))\n",
    "\n",
    "# Dropout para reducir el sobreajuste\n",
    "model.add(Dropout(0.5))\n",
    "\n",
    "# Capa de salida\n",
    "model.add(Dense(6, activation='softmax'))  # Suponiendo 7 emociones\n",
    "\n",
    "# Compilación del modelo\n",
    "model.compile(optimizer='adam', loss='categorical_crossentropy', metrics=['accuracy'])\n",
    "\n",
    "# Resumen del modelo\n",
    "model.summary()\n"
   ]
  },
  {
   "cell_type": "code",
   "execution_count": 15,
   "metadata": {},
   "outputs": [
    {
     "name": "stdout",
     "output_type": "stream",
     "text": [
      "Epoch 1/15\n"
     ]
    },
    {
     "name": "stderr",
     "output_type": "stream",
     "text": [
      "2024-03-24 03:36:59.310055: I tensorflow/core/common_runtime/executor.cc:1197] [/device:CPU:0] (DEBUG INFO) Executor start aborting (this does not indicate an error and you can ignore this message): INVALID_ARGUMENT: You must feed a value for placeholder tensor 'Placeholder/_0' with dtype int32\n",
      "\t [[{{node Placeholder/_0}}]]\n"
     ]
    },
    {
     "name": "stdout",
     "output_type": "stream",
     "text": [
      "431/431 [==============================] - ETA: 0s - loss: 1.7884 - accuracy: 0.1822"
     ]
    },
    {
     "name": "stderr",
     "output_type": "stream",
     "text": [
      "2024-03-24 03:37:43.920059: I tensorflow/core/common_runtime/executor.cc:1197] [/device:CPU:0] (DEBUG INFO) Executor start aborting (this does not indicate an error and you can ignore this message): INVALID_ARGUMENT: You must feed a value for placeholder tensor 'Placeholder/_0' with dtype int32\n",
      "\t [[{{node Placeholder/_0}}]]\n"
     ]
    },
    {
     "name": "stdout",
     "output_type": "stream",
     "text": [
      "431/431 [==============================] - 46s 104ms/step - loss: 1.7884 - accuracy: 0.1822 - val_loss: 1.7683 - val_accuracy: 0.2281\n",
      "Epoch 2/15\n",
      "431/431 [==============================] - 43s 100ms/step - loss: 1.7692 - accuracy: 0.2096 - val_loss: 1.7258 - val_accuracy: 0.2631\n",
      "Epoch 3/15\n",
      "431/431 [==============================] - 54s 125ms/step - loss: 1.7462 - accuracy: 0.2350 - val_loss: 1.6909 - val_accuracy: 0.2837\n",
      "Epoch 4/15\n",
      "431/431 [==============================] - 42s 97ms/step - loss: 1.7303 - accuracy: 0.2473 - val_loss: 1.7007 - val_accuracy: 0.2569\n",
      "Epoch 5/15\n",
      "431/431 [==============================] - 38s 87ms/step - loss: 1.7098 - accuracy: 0.2621 - val_loss: 1.6373 - val_accuracy: 0.3056\n",
      "Epoch 6/15\n",
      "431/431 [==============================] - 37s 87ms/step - loss: 1.6883 - accuracy: 0.2721 - val_loss: 1.6395 - val_accuracy: 0.2975\n",
      "Epoch 7/15\n",
      "431/431 [==============================] - 37s 86ms/step - loss: 1.6623 - accuracy: 0.2876 - val_loss: 1.5880 - val_accuracy: 0.3363\n",
      "Epoch 8/15\n",
      "431/431 [==============================] - 37s 85ms/step - loss: 1.6508 - accuracy: 0.2939 - val_loss: 1.5798 - val_accuracy: 0.3544\n",
      "Epoch 9/15\n",
      "431/431 [==============================] - 37s 86ms/step - loss: 1.6378 - accuracy: 0.3045 - val_loss: 1.5461 - val_accuracy: 0.3862\n",
      "Epoch 10/15\n",
      "431/431 [==============================] - 37s 86ms/step - loss: 1.6153 - accuracy: 0.3186 - val_loss: 1.5220 - val_accuracy: 0.3812\n",
      "Epoch 11/15\n",
      "431/431 [==============================] - 47s 110ms/step - loss: 1.6010 - accuracy: 0.3303 - val_loss: 1.4965 - val_accuracy: 0.4081\n",
      "Epoch 12/15\n",
      "431/431 [==============================] - 58s 135ms/step - loss: 1.5787 - accuracy: 0.3474 - val_loss: 1.5012 - val_accuracy: 0.4006\n",
      "Epoch 13/15\n",
      "431/431 [==============================] - 59s 137ms/step - loss: 1.5710 - accuracy: 0.3486 - val_loss: 1.4618 - val_accuracy: 0.4150\n",
      "Epoch 14/15\n",
      "431/431 [==============================] - 59s 138ms/step - loss: 1.5566 - accuracy: 0.3609 - val_loss: 1.4425 - val_accuracy: 0.4219\n",
      "Epoch 15/15\n",
      "431/431 [==============================] - 60s 139ms/step - loss: 1.5390 - accuracy: 0.3762 - val_loss: 1.4024 - val_accuracy: 0.4550\n"
     ]
    }
   ],
   "source": [
    "history = model.fit(\n",
    "    train_generator,\n",
    "    steps_per_epoch=train_generator.n // train_generator.batch_size,\n",
    "    epochs=15,  \n",
    "    validation_data=val_generator,\n",
    "    validation_steps=val_generator.n // val_generator.batch_size\n",
    ")"
   ]
  },
  {
   "cell_type": "markdown",
   "metadata": {},
   "source": [
    "## Evaluación del modelo\n",
    "\n",
    "Evaluación en el conjunto de datos de prueba para medir su rendimiento en datos no vistos anteriormente. Es decir: es el primer examen real de nuestro modelo"
   ]
  },
  {
   "cell_type": "code",
   "execution_count": 16,
   "metadata": {},
   "outputs": [
    {
     "name": "stdout",
     "output_type": "stream",
     "text": [
      "  3/119 [..............................] - ETA: 2s - loss: 1.5380 - accuracy: 0.2604"
     ]
    },
    {
     "name": "stderr",
     "output_type": "stream",
     "text": [
      "2024-03-24 03:48:30.847347: I tensorflow/core/common_runtime/executor.cc:1197] [/device:CPU:0] (DEBUG INFO) Executor start aborting (this does not indicate an error and you can ignore this message): INVALID_ARGUMENT: You must feed a value for placeholder tensor 'Placeholder/_0' with dtype int32\n",
      "\t [[{{node Placeholder/_0}}]]\n"
     ]
    },
    {
     "name": "stdout",
     "output_type": "stream",
     "text": [
      "119/119 [==============================] - 3s 26ms/step - loss: 1.4072 - accuracy: 0.4393\n",
      "Test accuracy: 0.43933823704719543\n"
     ]
    }
   ],
   "source": [
    "# Evaluar el modelo en el conjunto de prueba\n",
    "test_loss, test_acc = model.evaluate(test_generator, steps=test_generator.n // test_generator.batch_size)\n",
    "print('Test accuracy:', test_acc)\n"
   ]
  },
  {
   "cell_type": "code",
   "execution_count": 17,
   "metadata": {},
   "outputs": [
    {
     "data": {
      "image/png": "[encoded data removed]",
      "text/plain": [
       "<Figure size 640x480 with 1 Axes>"
      ]
     },
     "metadata": {},
     "output_type": "display_data"
    },
    {
     "data": {
      "image/png": "[encoded data removed]",
      "text/plain": [
       "<Figure size 640x480 with 1 Axes>"
      ]
     },
     "metadata": {},
     "output_type": "display_data"
    }
   ],
   "source": [
    "import matplotlib.pyplot as plt\n",
    "\n",
    "# Precisión\n",
    "plt.plot(history.history['accuracy'], label='Accuracy (training data)')\n",
    "plt.plot(history.history['val_accuracy'], label='Accuracy (validation data)')\n",
    "plt.title('Accuracy over Epochs')\n",
    "plt.ylabel('Accuracy')\n",
    "plt.xlabel('Epoch')\n",
    "plt.legend(loc=\"upper left\")\n",
    "plt.show()\n",
    "\n",
    "# Pérdida\n",
    "plt.plot(history.history['loss'], label='Loss (training data)')\n",
    "plt.plot(history.history['val_loss'], label='Loss (validation data)')\n",
    "plt.title('Loss over Epochs')\n",
    "plt.ylabel('Loss')\n",
    "plt.xlabel('Epoch')\n",
    "plt.legend(loc=\"upper left\")\n",
    "plt.show()\n"
   ]
  },
  {
   "cell_type": "code",
   "execution_count": 18,
   "metadata": {},
   "outputs": [
    {
     "name": "stdout",
     "output_type": "stream",
     "text": [
      "Model: \"sequential_1\"\n",
      "_________________________________________________________________\n",
      " Layer (type)                Output Shape              Param #   \n",
      "=================================================================\n",
      " conv2d_3 (Conv2D)           (None, 48, 48, 32)        896       \n",
      "                                                                 \n",
      " max_pooling2d_3 (MaxPooling  (None, 24, 24, 32)       0         \n",
      " 2D)                                                             \n",
      "                                                                 \n",
      " conv2d_4 (Conv2D)           (None, 22, 22, 64)        18496     \n",
      "                                                                 \n",
      " max_pooling2d_4 (MaxPooling  (None, 11, 11, 64)       0         \n",
      " 2D)                                                             \n",
      "                                                                 \n",
      " conv2d_5 (Conv2D)           (None, 9, 9, 128)         73856     \n",
      "                                                                 \n",
      " max_pooling2d_5 (MaxPooling  (None, 4, 4, 128)        0         \n",
      " 2D)                                                             \n",
      "                                                                 \n",
      " conv2d_6 (Conv2D)           (None, 2, 2, 256)         295168    \n",
      "                                                                 \n",
      " max_pooling2d_6 (MaxPooling  (None, 1, 1, 256)        0         \n",
      " 2D)                                                             \n",
      "                                                                 \n",
      " flatten_1 (Flatten)         (None, 256)               0         \n",
      "                                                                 \n",
      " dense_2 (Dense)             (None, 64)                16448     \n",
      "                                                                 \n",
      " dropout_1 (Dropout)         (None, 64)                0         \n",
      "                                                                 \n",
      " dense_3 (Dense)             (None, 6)                 390       \n",
      "                                                                 \n",
      "=================================================================\n",
      "Total params: 405,254\n",
      "Trainable params: 405,254\n",
      "Non-trainable params: 0\n",
      "_________________________________________________________________\n"
     ]
    }
   ],
   "source": [
    "from tensorflow.keras.models import Sequential\n",
    "from tensorflow.keras.layers import Conv2D, MaxPooling2D, Flatten, Dense, Dropout\n",
    "\n",
    "# Definición del modelo\n",
    "model = Sequential()\n",
    "\n",
    "# Primera capa convolucional\n",
    "model.add(Conv2D(32, (3, 3), padding=\"same\", activation='relu', input_shape=(48, 48, 3)))\n",
    "model.add(MaxPooling2D((2, 2)))\n",
    "\n",
    "# Segunda capa convolucional\n",
    "model.add(Conv2D(64, (3, 3), activation='relu'))\n",
    "model.add(MaxPooling2D((2, 2)))\n",
    "\n",
    "# Tercera capa convolucional\n",
    "model.add(Conv2D(128, (3, 3), activation='relu'))\n",
    "model.add(MaxPooling2D((2, 2)))\n",
    "\n",
    "# Cuarta capa convolucional\n",
    "model.add(Conv2D(256, (3, 3), activation='relu'))\n",
    "model.add(MaxPooling2D((2, 2)))\n",
    "\n",
    "# Aplanamiento y capa densa\n",
    "model.add(Flatten())\n",
    "model.add(Dense(64, activation='relu'))\n",
    "\n",
    "# Dropout para reducir el sobreajuste\n",
    "model.add(Dropout(0.5))\n",
    "\n",
    "# Capa de salida\n",
    "model.add(Dense(6, activation='softmax'))  # Suponiendo 7 emociones\n",
    "\n",
    "# Compilación del modelo\n",
    "model.compile(optimizer='adam', loss='categorical_crossentropy', metrics=['accuracy'])\n",
    "\n",
    "# Resumen del modelo\n",
    "model.summary()\n"
   ]
  },
  {
   "cell_type": "code",
   "execution_count": 19,
   "metadata": {},
   "outputs": [
    {
     "name": "stdout",
     "output_type": "stream",
     "text": [
      "Epoch 1/15\n"
     ]
    },
    {
     "name": "stderr",
     "output_type": "stream",
     "text": [
      "2024-03-24 03:57:38.805707: I tensorflow/core/common_runtime/executor.cc:1197] [/device:CPU:0] (DEBUG INFO) Executor start aborting (this does not indicate an error and you can ignore this message): INVALID_ARGUMENT: You must feed a value for placeholder tensor 'Placeholder/_0' with dtype int32\n",
      "\t [[{{node Placeholder/_0}}]]\n"
     ]
    },
    {
     "name": "stdout",
     "output_type": "stream",
     "text": [
      "431/431 [==============================] - ETA: 0s - loss: 1.7926 - accuracy: 0.1699"
     ]
    },
    {
     "name": "stderr",
     "output_type": "stream",
     "text": [
      "2024-03-24 03:58:32.723864: I tensorflow/core/common_runtime/executor.cc:1197] [/device:CPU:0] (DEBUG INFO) Executor start aborting (this does not indicate an error and you can ignore this message): INVALID_ARGUMENT: You must feed a value for placeholder tensor 'Placeholder/_0' with dtype int32\n",
      "\t [[{{node Placeholder/_0}}]]\n"
     ]
    },
    {
     "name": "stdout",
     "output_type": "stream",
     "text": [
      "431/431 [==============================] - 55s 125ms/step - loss: 1.7926 - accuracy: 0.1699 - val_loss: 1.7938 - val_accuracy: 0.1669\n",
      "Epoch 2/15\n",
      "431/431 [==============================] - 55s 128ms/step - loss: 1.7884 - accuracy: 0.1819 - val_loss: 1.7760 - val_accuracy: 0.2231\n",
      "Epoch 3/15\n",
      "431/431 [==============================] - 59s 137ms/step - loss: 1.7784 - accuracy: 0.2110 - val_loss: 1.7572 - val_accuracy: 0.2231\n",
      "Epoch 4/15\n",
      "431/431 [==============================] - 59s 136ms/step - loss: 1.7431 - accuracy: 0.2392 - val_loss: 1.6977 - val_accuracy: 0.2531\n",
      "Epoch 5/15\n",
      "431/431 [==============================] - 46s 108ms/step - loss: 1.7214 - accuracy: 0.2493 - val_loss: 1.6451 - val_accuracy: 0.2950\n",
      "Epoch 6/15\n",
      "431/431 [==============================] - 45s 103ms/step - loss: 1.6916 - accuracy: 0.2652 - val_loss: 1.6267 - val_accuracy: 0.2950\n",
      "Epoch 7/15\n",
      "431/431 [==============================] - 47s 110ms/step - loss: 1.6642 - accuracy: 0.2857 - val_loss: 1.6173 - val_accuracy: 0.3106\n",
      "Epoch 8/15\n",
      "431/431 [==============================] - 54s 124ms/step - loss: 1.6427 - accuracy: 0.2987 - val_loss: 1.5963 - val_accuracy: 0.3194\n",
      "Epoch 9/15\n",
      "431/431 [==============================] - 51s 119ms/step - loss: 1.6240 - accuracy: 0.3056 - val_loss: 1.6425 - val_accuracy: 0.3200\n",
      "Epoch 10/15\n",
      "431/431 [==============================] - 58s 133ms/step - loss: 1.6068 - accuracy: 0.3319 - val_loss: 1.5665 - val_accuracy: 0.3688\n",
      "Epoch 11/15\n",
      "431/431 [==============================] - 51s 117ms/step - loss: 1.5882 - accuracy: 0.3439 - val_loss: 1.5370 - val_accuracy: 0.4031\n",
      "Epoch 12/15\n",
      "431/431 [==============================] - 51s 119ms/step - loss: 1.5748 - accuracy: 0.3480 - val_loss: 1.4981 - val_accuracy: 0.4094\n",
      "Epoch 13/15\n",
      "431/431 [==============================] - 52s 120ms/step - loss: 1.5578 - accuracy: 0.3622 - val_loss: 1.4490 - val_accuracy: 0.4381\n",
      "Epoch 14/15\n",
      "431/431 [==============================] - 64s 149ms/step - loss: 1.5379 - accuracy: 0.3763 - val_loss: 1.4311 - val_accuracy: 0.4381\n",
      "Epoch 15/15\n",
      "207/431 [=============>................] - ETA: 33s - loss: 1.5315 - accuracy: 0.3766"
     ]
    }
   ],
   "source": [
    "history = model.fit(\n",
    "    train_generator,\n",
    "    steps_per_epoch=train_generator.n // train_generator.batch_size,\n",
    "    epochs=15,  \n",
    "    validation_data=val_generator,\n",
    "    validation_steps=val_generator.n // val_generator.batch_size\n",
    ")"
   ]
  },
  {
   "cell_type": "code",
   "execution_count": null,
   "metadata": {},
   "outputs": [],
   "source": [
    "# Evaluar el modelo en el conjunto de prueba\n",
    "test_loss, test_acc = model.evaluate(test_generator, steps=test_generator.n // test_generator.batch_size)\n",
    "print('Test accuracy:', test_acc)"
   ]
  },
  {
   "cell_type": "code",
   "execution_count": null,
   "metadata": {},
   "outputs": [],
   "source": [
    "import matplotlib.pyplot as plt\n",
    "\n",
    "# Precisión\n",
    "plt.plot(history.history['accuracy'], label='Accuracy (training data)')\n",
    "plt.plot(history.history['val_accuracy'], label='Accuracy (validation data)')\n",
    "plt.title('Accuracy over Epochs')\n",
    "plt.ylabel('Accuracy')\n",
    "plt.xlabel('Epoch')\n",
    "plt.legend(loc=\"upper left\")\n",
    "plt.show()\n",
    "\n",
    "# Pérdida\n",
    "plt.plot(history.history['loss'], label='Loss (training data)')\n",
    "plt.plot(history.history['val_loss'], label='Loss (validation data)')\n",
    "plt.title('Loss over Epochs')\n",
    "plt.ylabel('Loss')\n",
    "plt.xlabel('Epoch')\n",
    "plt.legend(loc=\"upper left\")\n",
    "plt.show()\n"
   ]
  }
 ],
 "metadata": {
  "kernelspec": {
   "display_name": "Python 3",
   "language": "python",
   "name": "python3"
  },
  "language_info": {
   "codemirror_mode": {
    "name": "ipython",
    "version": 3
   },
   "file_extension": ".py",
   "mimetype": "text/x-python",
   "name": "python",
   "nbconvert_exporter": "python",
   "pygments_lexer": "ipython3",
   "version": "3.11.8"
  }
 },
 "nbformat": 4,
 "nbformat_minor": 2
}
