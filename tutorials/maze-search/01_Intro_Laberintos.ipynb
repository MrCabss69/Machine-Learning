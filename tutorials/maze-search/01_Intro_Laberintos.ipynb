{
 "cells": [
  {
   "cell_type": "markdown",
   "metadata": {},
   "source": [
    "# ¿Qué es un laberinto?\n",
    "Matemáticamente un laberinto se puede contemplar desde varios puntos: un laberinto puede ser visto como un grafo, un juego, o un escenario de búsqueda de caminos."
   ]
  },
  {
   "cell_type": "markdown",
   "metadata": {},
   "source": [
    "## Estructura de un laberinto\n",
    "\n",
    "Un laberinto es un grafo no dirigido y cuyas aristas tienen un peso constante de 1. Las aristas representan las transiciones posibles, y los nodos los estados. Vamos a implementar una clase para definir un laberinto en Python. Nos apoyaremos en la librería Networkx para la manipulación de grafos, y de matplot para displayear el objeto."
   ]
  },
  {
   "cell_type": "code",
   "execution_count": null,
   "metadata": {},
   "outputs": [],
   "source": [
    "import networkx as nx\n",
    "import numpy as np \n",
    "import matplotlib.pyplot as plt    "
   ]
  },
  {
   "cell_type": "code",
   "execution_count": null,
   "metadata": {},
   "outputs": [],
   "source": [
    "class Maze:\n",
    "    def __init__(self, N=5):\n",
    "        self.N       = N\n",
    "        self.end     = (N-1,N-1)\n",
    "        self.start   = (0,0)\n",
    "        self.player  = (0,0)\n",
    "        self.bariers = []\n",
    "        self.grid    = self.generate()\n",
    "\n",
    "    def generate(self):\n",
    "        while True:\n",
    "            G = nx.grid_2d_graph(self.N, self.N)\n",
    "            all_nodes = list(G.nodes())\n",
    "            all_nodes.remove(self.start)\n",
    "            all_nodes.remove(self.end)\n",
    "            barriers = np.random.choice(range(len(all_nodes)), size=2*self.N, replace=False)\n",
    "            barriers = [all_nodes[i] for i in barriers]\n",
    "            G.remove_nodes_from(barriers)\n",
    "            if nx.has_path(G, self.start, self.end):\n",
    "                return G\n",
    "\n",
    "    def display(self):\n",
    "        pos     = {(x, y): (y, -x) for x, y in self.grid.nodes()}\n",
    "        fig, ax = plt.subplots(figsize=(5, 5))\n",
    "        nx.draw(self.grid, pos=pos, ax=ax, node_size=100, node_color='lightgray')\n",
    "        nx.draw_networkx_nodes(self.grid, pos=pos, nodelist=[self.player], node_color='green', node_size=150, label='Jugador')\n",
    "        nx.draw_networkx_nodes(self.grid, pos=pos, nodelist=[self.end], node_color='red', node_size=150, label='Meta')\n",
    "        ax.legend()\n",
    "        plt.grid(True)\n",
    "        plt.axis('equal')\n",
    "        plt.show()"
   ]
  },
  {
   "cell_type": "code",
   "execution_count": null,
   "metadata": {},
   "outputs": [],
   "source": [
    "for i in range(5):\n",
    "    m = Maze(10)\n",
    "    m.display()\n",
    "    print(f\"LABERINTO {i}\\n\\n\")"
   ]
  },
  {
   "cell_type": "markdown",
   "metadata": {},
   "source": [
    "Resolver un laberinto consiste en encontrar un camino desde un punto del mismo hasta otro cualquiera bajo ciertas que restricciones. Restricciones que pueden incluir limitaciones en número de movimientos, en el tiempo para calcular la ruta, etc.. Para ello disponemos de varios métodos. Los más clasicos son los algoritmos de búsqueda en grafos, incluyendo Dijkstra y A*, y más recientemente otros con aplicación en juegos, como MonteCarlo Tree Search (usado con éxito por DeepMind en AlphaGo y AlphaStar)\n",
    "\n",
    "[Algoritmos de búsqueda en grafos](https://es.wikipedia.org/wiki/Algoritmos_de_b%C3%BAsqueda_en_grafos)"
   ]
  },
  {
   "cell_type": "code",
   "execution_count": null,
   "metadata": {},
   "outputs": [],
   "source": []
  },
  {
   "cell_type": "code",
   "execution_count": null,
   "metadata": {},
   "outputs": [],
   "source": []
  },
  {
   "cell_type": "code",
   "execution_count": null,
   "metadata": {},
   "outputs": [],
   "source": []
  },
  {
   "cell_type": "code",
   "execution_count": null,
   "metadata": {},
   "outputs": [],
   "source": []
  },
  {
   "cell_type": "code",
   "execution_count": null,
   "metadata": {},
   "outputs": [],
   "source": []
  },
  {
   "cell_type": "code",
   "execution_count": null,
   "metadata": {},
   "outputs": [],
   "source": []
  },
  {
   "cell_type": "markdown",
   "metadata": {},
   "source": [
    "# MCTS"
   ]
  },
  {
   "cell_type": "code",
   "execution_count": null,
   "metadata": {},
   "outputs": [],
   "source": []
  },
  {
   "cell_type": "code",
   "execution_count": null,
   "metadata": {},
   "outputs": [],
   "source": [
    "from mcts import MCTS\n",
    "solver = MCTS(m)\n",
    "solver.solve()\n",
    "\n",
    "\n",
    "while m.player != m.end:\n",
    "    solver.solve()  # Ejecuta MCTS desde la posición actual del jugador\n",
    "    best_action = solver.select_best_action()  # Selecciona la mejor acción basada en MCTS\n",
    "    m.player = best_action  # Actualiza la posición del jugador\n",
    "    print(best_action)  # Opcional: Imprime la acción seleccionada\n",
    "    m.display()  # Muestra el estado actual del laberinto"
   ]
  },
  {
   "cell_type": "markdown",
   "metadata": {},
   "source": []
  }
 ],
 "metadata": {
  "kernelspec": {
   "display_name": "Python 3",
   "language": "python",
   "name": "python3"
  },
  "language_info": {
   "codemirror_mode": {
    "name": "ipython",
    "version": 3
   },
   "file_extension": ".py",
   "mimetype": "text/x-python",
   "name": "python",
   "nbconvert_exporter": "python",
   "pygments_lexer": "ipython3",
   "version": "3.11.8"
  }
 },
 "nbformat": 4,
 "nbformat_minor": 2
}
