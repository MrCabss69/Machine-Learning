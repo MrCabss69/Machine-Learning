{
 "cells": [
  {
   "cell_type": "code",
   "execution_count": null,
   "metadata": {},
   "outputs": [],
   "source": [
    "from solvers import GraphSearchAlgorithm\n",
    "s = GraphSearchAlgorithm(m)\n",
    "\n",
    "# DIJKSTRA\n",
    "solution = s.solve(m.start, m.end, lambda x,y: 0)\n",
    "print(solution[-6:])\n",
    "print(len(solution))\n",
    "\n",
    "\n",
    "\n",
    "# Función heurística para el algoritmo A*\n",
    "def manhattan(s,e):\n",
    "  dmin = min(abs(s[0]-e[0]), abs(s[1]-e[1])) \n",
    "  dmax = max(abs(s[0]-e[0]), abs(s[1]-e[1])) \n",
    "  return dmin + (dmax-dmin)\n",
    "\n",
    "\n",
    "# A*\n",
    "solution = s.solve(m.start, m.end, manhattan)\n",
    "\n",
    "print(solution[-6:])\n",
    "print(len(solution))"
   ]
  }
 ],
 "metadata": {
  "language_info": {
   "name": "python"
  }
 },
 "nbformat": 4,
 "nbformat_minor": 2
}
