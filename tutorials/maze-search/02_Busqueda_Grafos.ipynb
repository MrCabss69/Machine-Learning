{
 "cells": [
  {
   "cell_type": "code",
   "execution_count": 1,
   "metadata": {},
   "outputs": [],
   "source": [
    "from solvers import GraphSearchAlgorithm\n",
    "from maze import Maze"
   ]
  },
  {
   "cell_type": "code",
   "execution_count": 2,
   "metadata": {},
   "outputs": [],
   "source": [
    "m = Maze(10)\n",
    "s = GraphSearchAlgorithm(m)"
   ]
  },
  {
   "cell_type": "code",
   "execution_count": 3,
   "metadata": {},
   "outputs": [
    {
     "name": "stdout",
     "output_type": "stream",
     "text": [
      "[(5, 8), (6, 8), (7, 8), (8, 8), (9, 8), (9, 9)]\n",
      "19\n"
     ]
    }
   ],
   "source": [
    "# DIJKSTRA\n",
    "solution = s.solve(m.start, m.end, lambda x,y: 0)\n",
    "print(solution[-6:])\n",
    "print(len(solution))"
   ]
  },
  {
   "cell_type": "code",
   "execution_count": 4,
   "metadata": {},
   "outputs": [
    {
     "name": "stdout",
     "output_type": "stream",
     "text": [
      "[(6, 7), (7, 7), (7, 8), (8, 8), (9, 8), (9, 9)]\n",
      "19\n"
     ]
    }
   ],
   "source": [
    "# Función heurística para el algoritmo A*\n",
    "def manhattan(s,e):\n",
    "  dmin = min(abs(s[0]-e[0]), abs(s[1]-e[1])) \n",
    "  dmax = max(abs(s[0]-e[0]), abs(s[1]-e[1])) \n",
    "  return dmin + (dmax-dmin)\n",
    "\n",
    "# A*\n",
    "solution = s.solve(m.start, m.end, manhattan)\n",
    "print(solution[-6:])\n",
    "print(len(solution))"
   ]
  }
 ],
 "metadata": {
  "kernelspec": {
   "display_name": "Python 3",
   "language": "python",
   "name": "python3"
  },
  "language_info": {
   "codemirror_mode": {
    "name": "ipython",
    "version": 3
   },
   "file_extension": ".py",
   "mimetype": "text/x-python",
   "name": "python",
   "nbconvert_exporter": "python",
   "pygments_lexer": "ipython3",
   "version": "3.11.8"
  }
 },
 "nbformat": 4,
 "nbformat_minor": 2
}
