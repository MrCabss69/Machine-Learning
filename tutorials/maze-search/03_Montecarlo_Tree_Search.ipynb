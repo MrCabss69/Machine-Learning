{
 "cells": [
  {
   "cell_type": "code",
   "execution_count": null,
   "metadata": {},
   "outputs": [],
   "source": [
    "from mcts import MCTS\n",
    "\n",
    "solver = MCTS(m)\n",
    "solver.solve()\n",
    "while m.player != m.end:\n",
    "    solver.solve()  # Ejecuta MCTS desde la posición actual del jugador\n",
    "    best_action = solver.select_best_action()  # Selecciona la mejor acción basada en MCTS\n",
    "    m.player = best_action  # Actualiza la posición del jugador\n",
    "    print(best_action)  # Opcional: Imprime la acción seleccionada\n",
    "    m.display()  # Muestra el estado actual del laberinto"
   ]
  }
 ],
 "metadata": {
  "language_info": {
   "name": "python"
  }
 },
 "nbformat": 4,
 "nbformat_minor": 2
}
